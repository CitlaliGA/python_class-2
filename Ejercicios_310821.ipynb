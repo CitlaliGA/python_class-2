{
  "nbformat": 4,
  "nbformat_minor": 0,
  "metadata": {
    "colab": {
      "name": "Ejercicios_310821.ipynb",
      "provenance": [],
      "collapsed_sections": [],
      "authorship_tag": "ABX9TyOnErk0nIAjsIA73PeZ06KB"
    },
    "kernelspec": {
      "name": "python3",
      "display_name": "Python 3"
    },
    "language_info": {
      "name": "python"
    }
  },
  "cells": [
    {
      "cell_type": "markdown",
      "metadata": {
        "id": "oDgWUrXEQ1U0"
      },
      "source": [
        "# Ejercicios de clase\n",
        "31/agosto/2021\n"
      ]
    },
    {
      "cell_type": "code",
      "metadata": {
        "id": "Ha9J2mInQ4dT"
      },
      "source": [
        "##### Definiendo clases y atributos #####\n",
        "class animal():\n",
        "\tnombre = \"\"\n",
        "\tedad = \"\"\n",
        "\tdef haz_ruido(self):\n",
        "\t  print(\"AAAAAAAAH\")"
      ],
      "execution_count": null,
      "outputs": []
    },
    {
      "cell_type": "code",
      "metadata": {
        "id": "Wnun_4vlxZ73"
      },
      "source": [
        "animal1 = animal()"
      ],
      "execution_count": null,
      "outputs": []
    },
    {
      "cell_type": "code",
      "metadata": {
        "colab": {
          "base_uri": "https://localhost:8080/"
        },
        "id": "pIpR6_HYxsht",
        "outputId": "0539b891-3cbf-4634-b340-dd6b7a228941"
      },
      "source": [
        "animal1.haz_ruido()"
      ],
      "execution_count": null,
      "outputs": [
        {
          "output_type": "stream",
          "name": "stdout",
          "text": [
            "AAAAAAAAH\n"
          ]
        }
      ]
    },
    {
      "cell_type": "code",
      "metadata": {
        "id": "60y1NQ_LT8JU"
      },
      "source": [
        "##### Agregar un constructor #####\n",
        "class animal():\n",
        "  def __init__(self,nombre,edad):\n",
        "    self.nombre = nombre\n",
        "    self.edad = edad\n",
        "    #self.haz_ruido = sonido\n",
        "  def haz_ruido(self):\n",
        "\t  print(\"AAAAAAAAH\")"
      ],
      "execution_count": null,
      "outputs": []
    },
    {
      "cell_type": "code",
      "metadata": {
        "id": "nVV2YfJLXK_v"
      },
      "source": [
        "gato = animal('michi',2)"
      ],
      "execution_count": null,
      "outputs": []
    },
    {
      "cell_type": "code",
      "metadata": {
        "id": "3jYwdvoBYqdw",
        "colab": {
          "base_uri": "https://localhost:8080/"
        },
        "outputId": "385382a7-8890-4507-9b54-24322aab4ec9"
      },
      "source": [
        "print(gato.nombre)\n",
        "print(gato.edad)\n",
        "gato.haz_ruido() "
      ],
      "execution_count": null,
      "outputs": [
        {
          "output_type": "stream",
          "name": "stdout",
          "text": [
            "michi\n",
            "2\n",
            "AAAAAAAAH\n"
          ]
        }
      ]
    },
    {
      "cell_type": "code",
      "metadata": {
        "id": "iCz_pSrDXcZR"
      },
      "source": [
        "##### Herncia #####\n",
        "\n",
        "# Crear la clase perro y gato de manera que hereden la clase animal\n",
        "class perro (animal):\n",
        "  pass\n",
        "# A la clase gato agregar el atributo usa_arenero\n",
        "class gato (animal):\n",
        "  usa_arenero = True"
      ],
      "execution_count": null,
      "outputs": []
    },
    {
      "cell_type": "code",
      "metadata": {
        "colab": {
          "base_uri": "https://localhost:8080/"
        },
        "id": "PkW4kcRL0DpN",
        "outputId": "9c2e07c1-c13e-4f8e-ca1e-8b651118249e"
      },
      "source": [
        "perro1 = perro('Pulgas',7)\n",
        "perro1.haz_ruido()"
      ],
      "execution_count": null,
      "outputs": [
        {
          "output_type": "stream",
          "name": "stdout",
          "text": [
            "AAAAAAAAH\n"
          ]
        }
      ]
    },
    {
      "cell_type": "code",
      "metadata": {
        "colab": {
          "base_uri": "https://localhost:8080/"
        },
        "id": "OvwQA87Z0Odo",
        "outputId": "9684a4af-ccd4-4265-d656-a99e9dccd4ee"
      },
      "source": [
        "gato1 = gato('Pinto',1)\n",
        "gato1.usa_arenero"
      ],
      "execution_count": null,
      "outputs": [
        {
          "output_type": "execute_result",
          "data": {
            "text/plain": [
              "True"
            ]
          },
          "metadata": {},
          "execution_count": 157
        }
      ]
    },
    {
      "cell_type": "code",
      "metadata": {
        "id": "bJfDgAmTcRdC"
      },
      "source": [
        "# Hacer que la clase perro haga un overriding del método haz_ruido \n",
        "class perro (animal):\n",
        "  def haz_ruido(self):\n",
        "    print(\"GUAUFF\")"
      ],
      "execution_count": null,
      "outputs": []
    },
    {
      "cell_type": "code",
      "metadata": {
        "colab": {
          "base_uri": "https://localhost:8080/"
        },
        "id": "EYafX3AHy5TF",
        "outputId": "ce1f3d72-a412-4810-c66a-a033d091b1a8"
      },
      "source": [
        "perro1 = perro('Firulais',3)\n",
        "perro1.haz_ruido()"
      ],
      "execution_count": null,
      "outputs": [
        {
          "output_type": "stream",
          "name": "stdout",
          "text": [
            "GUAUFF\n"
          ]
        }
      ]
    },
    {
      "cell_type": "code",
      "metadata": {
        "id": "pi0EcoXAf_bu"
      },
      "source": [
        "# Hacer que la clase gato haga un polimorfismo del método haz_ruido \n",
        "class gato (animal):\n",
        "  def haz_ruido(self):\n",
        "    print(\"MIAUUU\")"
      ],
      "execution_count": null,
      "outputs": []
    },
    {
      "cell_type": "code",
      "metadata": {
        "id": "K7vkPEDfhSca",
        "colab": {
          "base_uri": "https://localhost:8080/"
        },
        "outputId": "08ddbb00-1400-4d64-bdcc-739f297b8915"
      },
      "source": [
        "gato1 = gato('Misifus',4)\n",
        "gato1.haz_ruido()"
      ],
      "execution_count": null,
      "outputs": [
        {
          "output_type": "stream",
          "name": "stdout",
          "text": [
            "MIAUUU\n"
          ]
        }
      ]
    }
  ]
}